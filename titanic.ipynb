{
  "cells": [
    {
      "cell_type": "code",
      "execution_count": 40,
      "metadata": {
        "colab": {
          "base_uri": "https://localhost:8080/",
          "height": 657
        },
        "id": "LuoLtKLb69RH",
        "outputId": "adc4e447-1cd0-4cde-eb7a-91699ca20b10"
      },
      "outputs": [
        {
          "data": {
            "image/png": "[encoded data removed]",
            "text/plain": [
              "<Figure size 640x480 with 1 Axes>"
            ]
          },
          "metadata": {},
          "output_type": "display_data"
        },
        {
          "name": "stdout",
          "output_type": "stream",
          "text": [
            "Model Accuracy: 0.8100558659217877\n",
            "\n",
            "Feature Importance:\n",
            " Sex            0.426339\n",
            "Fare           0.156414\n",
            "Pclass         0.140546\n",
            "Age            0.098084\n",
            "PassengerId    0.072444\n",
            "SibSp          0.040479\n",
            "Parch          0.034366\n",
            "Embarked       0.031329\n",
            "dtype: float64\n"
          ]
        }
      ],
      "source": [
        "\n",
        "import pandas as df\n",
        "from sklearn.model_selection import train_test_split\n",
        "from sklearn.preprocessing import LabelEncoder\n",
        "from sklearn.metrics import accuracy_score\n",
        "from sklearn.ensemble import RandomForestClassifier\n",
        "from sklearn.metrics import accuracy_score, confusion_matrix, classification_report\n",
        "import seaborn as sns\n",
        "import matplotlib.pyplot as plt\n",
        "\n",
        "\n",
        "#upload the dataset into the code\n",
        "titanic_dataset = df.read_csv('titanic (1).csv')\n",
        "\n",
        "#visualize data\n",
        "sns.countplot(x='Survived', hue='Sex', data=titanic_dataset)\n",
        "plt.show()\n",
        "\n",
        "#drop the columns that are not required\n",
        "titanic_dataset = titanic_dataset.drop(['Name', 'Ticket', 'Cabin'], axis=1)\n",
        "\n",
        "#fill those missing values\n",
        "titanic_dataset['Age'] = titanic_dataset['Age'].fillna(titanic_dataset['Age'].mean())\n",
        "titanic_dataset['Embarked'] = titanic_dataset['Embarked'].fillna(titanic_dataset['Embarked'].mode()[0])\n",
        "\n",
        "#convert categorial variables into numeric\n",
        "label = LabelEncoder()\n",
        "titanic_dataset['Sex'] = label.fit_transform(titanic_dataset['Sex'])\n",
        "titanic_dataset['Embarked'] = label.fit_transform(titanic_dataset['Embarked'])\n",
        "\n",
        "#split data into training and testing set\n",
        "predictors = titanic_dataset.drop('Survived', axis=1)\n",
        "outcome = titanic_dataset['Survived']\n",
        "predictors_train, predictors_test, outcome_train, outcome_test = train_test_split(predictors, outcome, test_size=0.2, random_state=42)\n",
        "\n",
        "#build the random forest model\n",
        "model = RandomForestClassifier(n_estimators=100, max_depth=5, random_state=1)\n",
        "model.fit(predictors_train, outcome_train)\n",
        "\n",
        "#predict the model and evaluate it\n",
        "predictions = model.predict(predictors_test)\n",
        "print('Model Accuracy:', accuracy_score(outcome_test, predictions))\n",
        "\n",
        "#feature importance\n",
        "feature_importance = df.Series(model.feature_importances_, index=predictors.columns)\n",
        "print('\\nFeature Importance:\\n', feature_importance.sort_values(ascending=False))\n"
      ]
    },
    {
      "cell_type": "markdown",
      "metadata": {
        "id": "MNp5kKl6xY6d"
      },
      "source": []
    },
    {
      "cell_type": "code",
      "execution_count": 29,
      "metadata": {
        "colab": {
          "base_uri": "https://localhost:8080/"
        },
        "id": "p_7jABzNu5e5",
        "outputId": "8108a97f-bb48-4802-a750-768a9538a2d6"
      },
      "outputs": [
        {
          "name": "stdout",
          "output_type": "stream",
          "text": [
            "Index(['PassengerId', 'Survived', 'Pclass', 'Name', 'Sex', 'Age', 'SibSp',\n",
            "       'Parch', 'Ticket', 'Fare', 'Cabin', 'Embarked'],\n",
            "      dtype='object')\n"
          ]
        }
      ],
      "source": [
        "print(titanic_dataset.columns)"
      ]
    }
  ],
  "metadata": {
    "colab": {
      "provenance": []
    },
    "kernelspec": {
      "display_name": "Python 3",
      "name": "python3"
    },
    "language_info": {
      "name": "python"
    }
  },
  "nbformat": 4,
  "nbformat_minor": 0
}
